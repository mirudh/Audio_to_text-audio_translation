{
  "nbformat": 4,
  "nbformat_minor": 0,
  "metadata": {
    "colab": {
      "provenance": []
    },
    "kernelspec": {
      "name": "python3",
      "display_name": "Python 3"
    },
    "language_info": {
      "name": "python"
    }
  },
  "cells": [
    {
      "cell_type": "code",
      "execution_count": 1,
      "metadata": {
        "colab": {
          "base_uri": "https://localhost:8080/"
        },
        "id": "3XQQCKOVbr_8",
        "outputId": "784e3886-0ddc-4370-8ab1-934bd8511252"
      },
      "outputs": [
        {
          "output_type": "stream",
          "name": "stdout",
          "text": [
            "Requirement already satisfied: speechRecognition in /usr/local/lib/python3.10/dist-packages (3.10.4)\n",
            "Requirement already satisfied: requests>=2.26.0 in /usr/local/lib/python3.10/dist-packages (from speechRecognition) (2.31.0)\n",
            "Requirement already satisfied: typing-extensions in /usr/local/lib/python3.10/dist-packages (from speechRecognition) (4.11.0)\n",
            "Requirement already satisfied: charset-normalizer<4,>=2 in /usr/local/lib/python3.10/dist-packages (from requests>=2.26.0->speechRecognition) (3.3.2)\n",
            "Requirement already satisfied: idna<4,>=2.5 in /usr/local/lib/python3.10/dist-packages (from requests>=2.26.0->speechRecognition) (2.10)\n",
            "Requirement already satisfied: urllib3<3,>=1.21.1 in /usr/local/lib/python3.10/dist-packages (from requests>=2.26.0->speechRecognition) (2.0.7)\n",
            "Requirement already satisfied: certifi>=2017.4.17 in /usr/local/lib/python3.10/dist-packages (from requests>=2.26.0->speechRecognition) (2024.2.2)\n"
          ]
        }
      ],
      "source": [
        "!pip install speechRecognition"
      ]
    },
    {
      "cell_type": "code",
      "source": [
        "import speech_recognition as spr"
      ],
      "metadata": {
        "id": "M1GSHe9ub-xe"
      },
      "execution_count": 2,
      "outputs": []
    },
    {
      "cell_type": "code",
      "source": [
        "recognizer=spr.Recognizer()"
      ],
      "metadata": {
        "id": "7ZKrcVPQcFsj"
      },
      "execution_count": 3,
      "outputs": []
    },
    {
      "cell_type": "code",
      "source": [
        "from pydub import AudioSegment\n",
        "src=(r\"audio.mp3\") # Input your audio file in '.mp3' format\n",
        "sound = AudioSegment.from_mp3(src)\n",
        "sound.export(\"audio.wav\", format=\"wav\")\n",
        "file_audio=spr.AudioFile('/content/audio.wav')"
      ],
      "metadata": {
        "id": "i1KGHmi64j-2"
      },
      "execution_count": 4,
      "outputs": []
    },
    {
      "cell_type": "code",
      "source": [
        "r = spr.Recognizer()\n",
        "with file_audio as source:\n",
        "    audio_text = r.record(source)"
      ],
      "metadata": {
        "id": "R1vqt667cjpN"
      },
      "execution_count": 5,
      "outputs": []
    },
    {
      "cell_type": "code",
      "source": [
        "text = recognizer.recognize_google(audio_text, language=\"en-IN\")\n",
        "print(text)"
      ],
      "metadata": {
        "colab": {
          "base_uri": "https://localhost:8080/"
        },
        "id": "dFgzvac-HBGS",
        "outputId": "1fd031f5-ba8c-4f44-c1a6-711eb2070ca1"
      },
      "execution_count": 6,
      "outputs": [
        {
          "output_type": "stream",
          "name": "stdout",
          "text": [
            "open ai's new tool E3 is a game changer in turning words into images it's the latest version and much better than its previous one Dolly 2 it even beats other popular tools like mid journey and stable diffusion excel in quality and design what's cool is it works with chat GPT so you can easily ask for tweaks in your images but Dolly 3's Journey started back in 2021 improving with each version it uses a method called latent diffusion to make these images yet there are concerns artists worry about AI copying their Styles leading to copyright issues big names like John Grisham or even suing open AI so open AI has set some rules for Dolly 3 it can't make certain types of content or copy a living artist style they're all building a tool to see of Dolly 3 made a picture however it's not all smooth sailing there are still debates on who owns AI made images and how to protect original art\n"
          ]
        }
      ]
    },
    {
      "cell_type": "code",
      "source": [
        "!pip install googletrans==3.1.0a0"
      ],
      "metadata": {
        "colab": {
          "base_uri": "https://localhost:8080/"
        },
        "id": "cHKKFEKsIeks",
        "outputId": "01e9ca47-2a43-4fe9-83cb-fe6e8f6a07ea"
      },
      "execution_count": 7,
      "outputs": [
        {
          "output_type": "stream",
          "name": "stdout",
          "text": [
            "Requirement already satisfied: googletrans==3.1.0a0 in /usr/local/lib/python3.10/dist-packages (3.1.0a0)\n",
            "Requirement already satisfied: httpx==0.13.3 in /usr/local/lib/python3.10/dist-packages (from googletrans==3.1.0a0) (0.13.3)\n",
            "Requirement already satisfied: certifi in /usr/local/lib/python3.10/dist-packages (from httpx==0.13.3->googletrans==3.1.0a0) (2024.2.2)\n",
            "Requirement already satisfied: hstspreload in /usr/local/lib/python3.10/dist-packages (from httpx==0.13.3->googletrans==3.1.0a0) (2024.5.1)\n",
            "Requirement already satisfied: sniffio in /usr/local/lib/python3.10/dist-packages (from httpx==0.13.3->googletrans==3.1.0a0) (1.3.1)\n",
            "Requirement already satisfied: chardet==3.* in /usr/local/lib/python3.10/dist-packages (from httpx==0.13.3->googletrans==3.1.0a0) (3.0.4)\n",
            "Requirement already satisfied: idna==2.* in /usr/local/lib/python3.10/dist-packages (from httpx==0.13.3->googletrans==3.1.0a0) (2.10)\n",
            "Requirement already satisfied: rfc3986<2,>=1.3 in /usr/local/lib/python3.10/dist-packages (from httpx==0.13.3->googletrans==3.1.0a0) (1.5.0)\n",
            "Requirement already satisfied: httpcore==0.9.* in /usr/local/lib/python3.10/dist-packages (from httpx==0.13.3->googletrans==3.1.0a0) (0.9.1)\n",
            "Requirement already satisfied: h11<0.10,>=0.8 in /usr/local/lib/python3.10/dist-packages (from httpcore==0.9.*->httpx==0.13.3->googletrans==3.1.0a0) (0.9.0)\n",
            "Requirement already satisfied: h2==3.* in /usr/local/lib/python3.10/dist-packages (from httpcore==0.9.*->httpx==0.13.3->googletrans==3.1.0a0) (3.2.0)\n",
            "Requirement already satisfied: hyperframe<6,>=5.2.0 in /usr/local/lib/python3.10/dist-packages (from h2==3.*->httpcore==0.9.*->httpx==0.13.3->googletrans==3.1.0a0) (5.2.0)\n",
            "Requirement already satisfied: hpack<4,>=3.0 in /usr/local/lib/python3.10/dist-packages (from h2==3.*->httpcore==0.9.*->httpx==0.13.3->googletrans==3.1.0a0) (3.0.0)\n"
          ]
        }
      ]
    },
    {
      "cell_type": "code",
      "source": [
        "from googletrans import Translator\n",
        "\n",
        "file_translate = Translator()"
      ],
      "metadata": {
        "id": "Ez0A6IK3IjbH"
      },
      "execution_count": 8,
      "outputs": []
    },
    {
      "cell_type": "code",
      "source": [
        "result = file_translate.translate(text,dest='hi') # In dest specify the language to convert\n",
        "print(result.text)"
      ],
      "metadata": {
        "colab": {
          "base_uri": "https://localhost:8080/"
        },
        "id": "VhrQdbwXInal",
        "outputId": "75865257-174c-4a47-bd7b-4dee6a9fb56f"
      },
      "execution_count": 10,
      "outputs": [
        {
          "output_type": "stream",
          "name": "stdout",
          "text": [
            "ओपन एआई का नया टूल ई3 शब्दों को छवियों में बदलने में एक गेम चेंजर है, यह नवीनतम संस्करण है और अपने पिछले डॉली 2 की तुलना में काफी बेहतर है, यह मध्य यात्रा और स्थिर प्रसार जैसे अन्य लोकप्रिय टूल को भी मात देता है, गुणवत्ता और डिजाइन में उत्कृष्ट है, क्या अच्छा है कि यह इसके साथ काम करता है जीपीटी पर चैट करें ताकि आप आसानी से अपनी छवियों में बदलाव के लिए पूछ सकें, लेकिन डॉली 3 की यात्रा 2021 में शुरू हुई, जिसमें प्रत्येक संस्करण के साथ सुधार हुआ, यह इन छवियों को बनाने के लिए अव्यक्त प्रसार नामक एक विधि का उपयोग करता है, फिर भी चिंताएं हैं कि कलाकार एआई द्वारा उनकी शैलियों की नकल करने के बारे में चिंतित हैं, जिससे कॉपीराइट मुद्दे हो सकते हैं। जॉन ग्रिशम जैसे बड़े नाम या ओपन एआई पर मुकदमा भी कर रहे हैं, इसलिए ओपन एआई ने डॉली 3 के लिए कुछ नियम निर्धारित किए हैं, यह कुछ प्रकार की सामग्री नहीं बना सकता है या किसी जीवित कलाकार की शैली की नकल नहीं कर सकता है, वे सभी डॉली 3 की एक तस्वीर देखने के लिए एक उपकरण का निर्माण कर रहे हैं। हालाँकि यह सब सहज नहीं है, अभी भी इस बात पर बहस चल रही है कि AI द्वारा निर्मित छवियों का मालिक कौन है और मूल कला की रक्षा कैसे की जाए\n"
          ]
        }
      ]
    },
    {
      "cell_type": "code",
      "source": [
        "!pip install gtts"
      ],
      "metadata": {
        "colab": {
          "base_uri": "https://localhost:8080/"
        },
        "id": "yqw4Ate_6fgx",
        "outputId": "3cf59e86-6dac-4e0a-b945-6cccca1ff49f"
      },
      "execution_count": 11,
      "outputs": [
        {
          "output_type": "stream",
          "name": "stdout",
          "text": [
            "Collecting gtts\n",
            "  Downloading gTTS-2.5.1-py3-none-any.whl (29 kB)\n",
            "Requirement already satisfied: requests<3,>=2.27 in /usr/local/lib/python3.10/dist-packages (from gtts) (2.31.0)\n",
            "Requirement already satisfied: click<8.2,>=7.1 in /usr/local/lib/python3.10/dist-packages (from gtts) (8.1.7)\n",
            "Requirement already satisfied: charset-normalizer<4,>=2 in /usr/local/lib/python3.10/dist-packages (from requests<3,>=2.27->gtts) (3.3.2)\n",
            "Requirement already satisfied: idna<4,>=2.5 in /usr/local/lib/python3.10/dist-packages (from requests<3,>=2.27->gtts) (2.10)\n",
            "Requirement already satisfied: urllib3<3,>=1.21.1 in /usr/local/lib/python3.10/dist-packages (from requests<3,>=2.27->gtts) (2.0.7)\n",
            "Requirement already satisfied: certifi>=2017.4.17 in /usr/local/lib/python3.10/dist-packages (from requests<3,>=2.27->gtts) (2024.2.2)\n",
            "Installing collected packages: gtts\n",
            "Successfully installed gtts-2.5.1\n"
          ]
        }
      ]
    },
    {
      "cell_type": "code",
      "source": [
        "from gtts import gTTS\n",
        "\n",
        "# This module is imported so that we can\n",
        "# play the converted audio\n",
        "import os\n",
        "\n",
        "# The text that you want to convert to audio\n",
        "mytext = result.text\n",
        "\n",
        "language = 'hi' # Specify the language\n",
        "myobj = gTTS(text=mytext, lang=language, slow=False)\n",
        "\n",
        "# Saving the converted audio in a mp3 file\n",
        "myobj.save(\"final.mp3\")"
      ],
      "metadata": {
        "id": "jdBzXfGY6d5O"
      },
      "execution_count": 13,
      "outputs": []
    }
  ]
}